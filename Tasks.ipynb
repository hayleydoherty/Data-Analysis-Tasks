{
 "cells": [
  {
   "cell_type": "markdown",
   "metadata": {},
   "source": [
    "## Fundamentals of Data Analysis Tasks\n",
    "#### Hayley Doherty\n",
    "---"
   ]
  },
  {
   "cell_type": "markdown",
   "metadata": {},
   "source": [
    "### Task 1: Counts\n",
    "The aim of this task is to write a python function called counts that takes in a list as input and returns a dictionary of the unique items from the list as keys and the number of times each item appears in the list. "
   ]
  },
  {
   "cell_type": "markdown",
   "metadata": {},
   "source": [
    "The following code was obtained from Geeks for Geeks [1] with some alterations. It can be used to count the frequency of unique numbers strings in a list. The original code from Geeks for Geeks could only be used to count the frequency of distinct numbers in a list and did not return the output in the form of a dictionary. By not specifying that the output should be made up of integers (using %d as they did) my code is able to include strings in the input and the function successfully counts the frequency of both the numbers and strings.  \n",
    "\n"
   ]
  },
  {
   "cell_type": "code",
   "execution_count": 1,
   "metadata": {},
   "outputs": [],
   "source": [
    "my_list = [1, 2, 1, 3, 1, 2, 'a', 'b', 'a']\n",
    "\n",
    "def counts(my_list): \n",
    "  \n",
    "    # Creating an empty dictionary  \n",
    "    freq = {} \n",
    "    # for loop will iterate through the list\n",
    "    for item in my_list: \n",
    "        # if statement to determine if the item has been enountered before, if it has 1 is added to the frequency\n",
    "        if (item in freq): \n",
    "            freq[item] += 1\n",
    "        # if item has not been encountered in the loop before, the frequency is set to 1\n",
    "        else: \n",
    "            freq[item] = 1\n",
    "    return freq"
   ]
  },
  {
   "cell_type": "code",
   "execution_count": 2,
   "metadata": {},
   "outputs": [
    {
     "name": "stdout",
     "output_type": "stream",
     "text": [
      "{1: 3, 2: 2, 3: 1, 'a': 2, 'b': 1}\n"
     ]
    }
   ],
   "source": [
    "print(counts(my_list))"
   ]
  },
  {
   "cell_type": "code",
   "execution_count": 2,
   "metadata": {},
   "outputs": [],
   "source": [
    "my_list2 = [1, 1, 2, 'a', 'b', 'a', [2, 3, 4], 'a']\n",
    "\n",
    "def counts2(my_list): \n",
    "  \n",
    "    freq = {} \n",
    "    for item in my_list: \n",
    "        if (item in freq): \n",
    "            freq[item] += 1\n",
    "        else: \n",
    "            freq[item] = 1\n",
    "    return freq"
   ]
  },
  {
   "cell_type": "code",
   "execution_count": 3,
   "metadata": {},
   "outputs": [
    {
     "ename": "TypeError",
     "evalue": "unhashable type: 'list'",
     "output_type": "error",
     "traceback": [
      "\u001b[1;31m---------------------------------------------------------------------------\u001b[0m",
      "\u001b[1;31mTypeError\u001b[0m                                 Traceback (most recent call last)",
      "\u001b[1;32m<ipython-input-3-37e841b39f57>\u001b[0m in \u001b[0;36m<module>\u001b[1;34m\u001b[0m\n\u001b[1;32m----> 1\u001b[1;33m \u001b[0mprint\u001b[0m\u001b[1;33m(\u001b[0m\u001b[0mcounts2\u001b[0m\u001b[1;33m(\u001b[0m\u001b[0mmy_list2\u001b[0m\u001b[1;33m)\u001b[0m\u001b[1;33m)\u001b[0m\u001b[1;33m\u001b[0m\u001b[1;33m\u001b[0m\u001b[0m\n\u001b[0m",
      "\u001b[1;32m<ipython-input-2-382fa29ff5da>\u001b[0m in \u001b[0;36mcounts2\u001b[1;34m(my_list)\u001b[0m\n\u001b[0;32m      5\u001b[0m     \u001b[0mfreq\u001b[0m \u001b[1;33m=\u001b[0m \u001b[1;33m{\u001b[0m\u001b[1;33m}\u001b[0m\u001b[1;33m\u001b[0m\u001b[1;33m\u001b[0m\u001b[0m\n\u001b[0;32m      6\u001b[0m     \u001b[1;32mfor\u001b[0m \u001b[0mitem\u001b[0m \u001b[1;32min\u001b[0m \u001b[0mmy_list\u001b[0m\u001b[1;33m:\u001b[0m\u001b[1;33m\u001b[0m\u001b[1;33m\u001b[0m\u001b[0m\n\u001b[1;32m----> 7\u001b[1;33m         \u001b[1;32mif\u001b[0m \u001b[1;33m(\u001b[0m\u001b[0mitem\u001b[0m \u001b[1;32min\u001b[0m \u001b[0mfreq\u001b[0m\u001b[1;33m)\u001b[0m\u001b[1;33m:\u001b[0m\u001b[1;33m\u001b[0m\u001b[1;33m\u001b[0m\u001b[0m\n\u001b[0m\u001b[0;32m      8\u001b[0m             \u001b[0mfreq\u001b[0m\u001b[1;33m[\u001b[0m\u001b[0mitem\u001b[0m\u001b[1;33m]\u001b[0m \u001b[1;33m+=\u001b[0m \u001b[1;36m1\u001b[0m\u001b[1;33m\u001b[0m\u001b[1;33m\u001b[0m\u001b[0m\n\u001b[0;32m      9\u001b[0m         \u001b[1;32melse\u001b[0m\u001b[1;33m:\u001b[0m\u001b[1;33m\u001b[0m\u001b[1;33m\u001b[0m\u001b[0m\n",
      "\u001b[1;31mTypeError\u001b[0m: unhashable type: 'list'"
     ]
    }
   ],
   "source": [
    "print(counts2(my_list2))"
   ]
  },
  {
   "cell_type": "markdown",
   "metadata": {},
   "source": [
    "Above I added a list into my input list to see if the function would still work however an error occurred (TyprError: unhashable type: list). This is because lists cannot be used as keys in a dictionary as they can be modified; only immutable data types can be used as keys such as strings and numbers as well as tuples as long as the tuple contains only immutable objects [2]."
   ]
  },
  {
   "cell_type": "markdown",
   "metadata": {},
   "source": [
    "[1]. Counting the frequencies in a list using dictionary in Python; https://www.geeksforgeeks.org/counting-the-frequencies-in-a-list-using-dictionary-in-python/\n",
    "\n",
    "[2]. The Python Tutorial, 5.5 Dictionaries; https://docs.python.org/3.9/tutorial/datastructures.html#dictionaries"
   ]
  },
  {
   "cell_type": "markdown",
   "metadata": {},
   "source": [
    "### Task 2: Dicerolls\n",
    "\n",
    "The aim of this task is to write a function that takes two parameters, *k*, the number of dice to be rolled and *n* the number of times the dice are rolled. The function should return a dictionary with the number of times each possible total value occurred.\n",
    "\n",
    "From research on the NumPy.random function, performed as part of a project for another module, I learned that a function of the numpy.random.generator called integers can be used to return a randomly selected value from a given array. This can be used to simulate the roll of a dice when the given array is in the range 1-6 (inclusive) [3]."
   ]
  },
  {
   "cell_type": "markdown",
   "metadata": {},
   "source": [
    "The code below has been adapted from MarshallBrain.com. I can get it working when only 1 dice is rolled but have not figured out how to adapt it to allow multiple dice to be rolled."
   ]
  },
  {
   "cell_type": "code",
   "execution_count": 11,
   "metadata": {},
   "outputs": [],
   "source": [
    "import numpy as np\n",
    "rng = np.random.default_rng()\n",
    "def dicerolls(k, n):\n",
    "\n",
    "    NumberOfFaces = k * 6\n",
    "\n",
    "    face = [] # create a list\n",
    "    # Set the number of elements in the list\n",
    "    for x in range(0, NumberOfFaces):\n",
    "      face.append(0)\n",
    "\n",
    "    for y in range(0, n):\n",
    "      # roll the dice with randrange, and then add one to that element of the list\n",
    "      face[rng.integers(0, NumberOfFaces)] += 1\n",
    "     \n",
    "    # print out how many times each face came up \n",
    "    for z in range(0, NumberOfFaces):\n",
    "      print ((\"%d: %d\") % (z+1,face[z]))\n"
   ]
  },
  {
   "cell_type": "code",
   "execution_count": 12,
   "metadata": {},
   "outputs": [
    {
     "name": "stdout",
     "output_type": "stream",
     "text": [
      "1: 14\n",
      "2: 10\n",
      "3: 19\n",
      "4: 19\n",
      "5: 18\n",
      "6: 20\n"
     ]
    }
   ],
   "source": [
    "dicerolls(1, 100)"
   ]
  },
  {
   "cell_type": "code",
   "execution_count": null,
   "metadata": {},
   "outputs": [],
   "source": []
  },
  {
   "cell_type": "markdown",
   "metadata": {},
   "source": [
    "[3]. Random Generator, NumPy v1.19 Manual; https://numpy.org/doc/stable/reference/random/generator.html"
   ]
  },
  {
   "cell_type": "code",
   "execution_count": null,
   "metadata": {},
   "outputs": [],
   "source": []
  },
  {
   "cell_type": "code",
   "execution_count": null,
   "metadata": {},
   "outputs": [],
   "source": []
  },
  {
   "cell_type": "code",
   "execution_count": null,
   "metadata": {},
   "outputs": [],
   "source": []
  },
  {
   "cell_type": "code",
   "execution_count": null,
   "metadata": {},
   "outputs": [],
   "source": []
  },
  {
   "cell_type": "code",
   "execution_count": null,
   "metadata": {},
   "outputs": [],
   "source": []
  }
 ],
 "metadata": {
  "kernelspec": {
   "display_name": "Python 3",
   "language": "python",
   "name": "python3"
  },
  "language_info": {
   "codemirror_mode": {
    "name": "ipython",
    "version": 3
   },
   "file_extension": ".py",
   "mimetype": "text/x-python",
   "name": "python",
   "nbconvert_exporter": "python",
   "pygments_lexer": "ipython3",
   "version": "3.7.4"
  }
 },
 "nbformat": 4,
 "nbformat_minor": 2
}
