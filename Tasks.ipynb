{
 "cells": [
  {
   "cell_type": "markdown",
   "metadata": {},
   "source": [
    "## Fundamentals of Data Analysis Tasks\n",
    "### Hayley Doherty G00387849\n",
    "---\n",
    "\n",
    "### Task 1: Counts\n",
    "The aim of this task is to write a python function called counts that takes in a list as input and returns a dictionary of the unique items from the list as keys and the number of times each item appears in the list.\n",
    "\n",
    "\n",
    "The code for my 'counts' function was adapted from a similar function found on Geeks for Geeks [1]. This original function can only be used to count the frquency of numbers in a list and the result is output in the form of a list. However the task description states the output should be in the form of a dictionary and the input list should contain different forms of data such as strings so I had to alter the code to change these aspects. To do this I removed the second for loop and set the return value to the frequency dictionary. This enabled strings to be enyered as input, as the %d placeholder was removed, and returned a dictionary as specified in the task description.\n",
    "\n",
    "The function contains a for loop which loops through each item in the list. If the item has been seen by the loop before 1 is added to its frequency and if it has not been encountered before, its frequency is set to 1. The loop ends after it has enountered each item in the inout list and the frequency dictionary which contains the number of times each item appears in the list is output."
   ]
  },
  {
   "cell_type": "code",
   "execution_count": 1,
   "metadata": {},
   "outputs": [],
   "source": [
    "import numpy as np\n",
    "rng = np.random.default_rng()\n",
    "from collections import defaultdict\n",
    "import matplotlib.pyplot as plt"
   ]
  },
  {
   "cell_type": "code",
   "execution_count": null,
   "metadata": {},
   "outputs": [],
   "source": [
    "my_list = [1, 2, 1, 3, 1, 2, 'a', 'b', 'a']\n",
    "# Original code from Geeks for Geeks\n",
    "def CountFrequency(my_list): \n",
    "    freq = {} \n",
    "    for item in my_list: \n",
    "        if (item in freq): \n",
    "            freq[item] += 1\n",
    "        else: \n",
    "            freq[item] = 1\n",
    "    for key, value in freq.items(): \n",
    "        print (\"% d : % d\"%(key, value))\n",
    "        \n",
    "CountFrequency(my_list)"
   ]
  },
  {
   "cell_type": "code",
   "execution_count": 2,
   "metadata": {},
   "outputs": [],
   "source": [
    "def counts(lists): \n",
    "  \n",
    "    # Creating an empty dictionary  \n",
    "    freq = {} \n",
    "    # for loop will iterate through the list\n",
    "    for item in lists: \n",
    "        # if statement to determine if the item has been enountered before, if it has 1 is added to the frequency\n",
    "        if (item in freq): \n",
    "            freq[item] += 1\n",
    "        # if item has not been encountered in the loop before, the frequency is set to 1\n",
    "        else: \n",
    "            freq[item] = 1\n",
    "    return freq"
   ]
  },
  {
   "cell_type": "code",
   "execution_count": 3,
   "metadata": {},
   "outputs": [
    {
     "name": "stdout",
     "output_type": "stream",
     "text": [
      "{1: 5, 2: 3, 3: 1, 'a': 2, 'b': 1}\n"
     ]
    }
   ],
   "source": [
    "mylist = [1, 2, 1, 1, 2, 1, 3, 1, 2, 'a', 'b', 'a']\n",
    "print(counts(mylist))"
   ]
  },
  {
   "cell_type": "markdown",
   "metadata": {},
   "source": [
    "The empty 'freq' dictionary"
   ]
  },
  {
   "cell_type": "markdown",
   "metadata": {},
   "source": [
    "Below I added a list into the input list to see if the function would still work however an error occurred (TypeError: unhashable type: list). This is because lists cannot be used as keys in a dictionary as they can be modified; only immutable data types can be used as keys such as strings and numbers as well as tuples as long as the tuple contains only immutable objects [2]."
   ]
  },
  {
   "cell_type": "code",
   "execution_count": 19,
   "metadata": {},
   "outputs": [
    {
     "ename": "TypeError",
     "evalue": "unhashable type: 'list'",
     "output_type": "error",
     "traceback": [
      "\u001b[1;31m---------------------------------------------------------------------------\u001b[0m",
      "\u001b[1;31mTypeError\u001b[0m                                 Traceback (most recent call last)",
      "\u001b[1;32m<ipython-input-19-69fb688d3b25>\u001b[0m in \u001b[0;36m<module>\u001b[1;34m\u001b[0m\n\u001b[0;32m      1\u001b[0m \u001b[0mmylist2\u001b[0m \u001b[1;33m=\u001b[0m \u001b[1;33m[\u001b[0m\u001b[1;36m1\u001b[0m\u001b[1;33m,\u001b[0m \u001b[1;36m1\u001b[0m\u001b[1;33m,\u001b[0m \u001b[1;36m2\u001b[0m\u001b[1;33m,\u001b[0m \u001b[1;34m'a'\u001b[0m\u001b[1;33m,\u001b[0m \u001b[1;34m'b'\u001b[0m\u001b[1;33m,\u001b[0m \u001b[1;33m[\u001b[0m\u001b[1;36m1\u001b[0m\u001b[1;33m,\u001b[0m \u001b[1;36m2\u001b[0m\u001b[1;33m,\u001b[0m \u001b[1;36m3\u001b[0m\u001b[1;33m]\u001b[0m\u001b[1;33m,\u001b[0m \u001b[1;34m'a'\u001b[0m\u001b[1;33m,\u001b[0m \u001b[1;34m'a'\u001b[0m\u001b[1;33m]\u001b[0m\u001b[1;33m\u001b[0m\u001b[1;33m\u001b[0m\u001b[0m\n\u001b[1;32m----> 2\u001b[1;33m \u001b[0mcounts\u001b[0m\u001b[1;33m(\u001b[0m\u001b[0mmylist2\u001b[0m\u001b[1;33m)\u001b[0m\u001b[1;33m\u001b[0m\u001b[1;33m\u001b[0m\u001b[0m\n\u001b[0m",
      "\u001b[1;32m<ipython-input-4-7597f53c624b>\u001b[0m in \u001b[0;36mcounts\u001b[1;34m(lists)\u001b[0m\n\u001b[0;32m      8\u001b[0m     \u001b[1;32mfor\u001b[0m \u001b[0mitem\u001b[0m \u001b[1;32min\u001b[0m \u001b[0mlists\u001b[0m\u001b[1;33m:\u001b[0m\u001b[1;33m\u001b[0m\u001b[1;33m\u001b[0m\u001b[0m\n\u001b[0;32m      9\u001b[0m         \u001b[1;31m# if statement to determine if the item has been enountered before, if it has 1 is added to the frequency\u001b[0m\u001b[1;33m\u001b[0m\u001b[1;33m\u001b[0m\u001b[1;33m\u001b[0m\u001b[0m\n\u001b[1;32m---> 10\u001b[1;33m         \u001b[1;32mif\u001b[0m \u001b[1;33m(\u001b[0m\u001b[0mitem\u001b[0m \u001b[1;32min\u001b[0m \u001b[0mfreq\u001b[0m\u001b[1;33m)\u001b[0m\u001b[1;33m:\u001b[0m\u001b[1;33m\u001b[0m\u001b[1;33m\u001b[0m\u001b[0m\n\u001b[0m\u001b[0;32m     11\u001b[0m             \u001b[0mfreq\u001b[0m\u001b[1;33m[\u001b[0m\u001b[0mitem\u001b[0m\u001b[1;33m]\u001b[0m \u001b[1;33m+=\u001b[0m \u001b[1;36m1\u001b[0m\u001b[1;33m\u001b[0m\u001b[1;33m\u001b[0m\u001b[0m\n\u001b[0;32m     12\u001b[0m         \u001b[1;31m# if item has not been encountered in the loop before, the frequency is set to 1\u001b[0m\u001b[1;33m\u001b[0m\u001b[1;33m\u001b[0m\u001b[1;33m\u001b[0m\u001b[0m\n",
      "\u001b[1;31mTypeError\u001b[0m: unhashable type: 'list'"
     ]
    }
   ],
   "source": [
    "mylist2 = [1, 1, 2, 'a', 'b', [1, 2, 3], 'a', 'a']\n",
    "counts(mylist2)"
   ]
  },
  {
   "cell_type": "markdown",
   "metadata": {},
   "source": [
    "---\n",
    "### Task 2: Dicerolls\n",
    "\n",
    "The aim of this task is to write a function that takes two parameters, $k$, the number of dice to be rolled and $n$ the number of times the dice are rolled. The function should return a dictionary with the number of times each possible total value occurred.\n",
    "\n",
    "From research on the NumPy.random function, performed as part of a project for another module, I learned that a function of the numpy.random.generator called integers can be used to return a randomly selected value from a given array. This can be used to simulate the roll of a dice when the given array is in the range 1-6 (inclusive) [3].\n"
   ]
  },
  {
   "cell_type": "code",
   "execution_count": 103,
   "metadata": {},
   "outputs": [
    {
     "name": "stdout",
     "output_type": "stream",
     "text": [
      "{2: 14, 3: 6, 4: 9, 5: 7, 6: 10, 7: 8, 8: 4, 9: 10, 10: 10, 11: 11, 12: 11}\n"
     ]
    }
   ],
   "source": [
    "def dicerolls(k, n):\n",
    "    # max total value possible per roll = no. of die x no. face per die\n",
    "    max = 6 * k\n",
    "    face = {}\n",
    "    # min total value possible per roll = no. of die, i.e. if each dice rolled a 1\n",
    "    min = k\n",
    "    # for loop simulates rolling die n times\n",
    "    for x in range(n): \n",
    "        num = rng.integers(min, max, endpoint = True)\n",
    "        if (num in face):              # number generated (the face value) added to dictionary\n",
    "            face[num] += 1             # and 1 is added each time the same value appears\n",
    "        else: \n",
    "            face[num] = 1\n",
    "    result = dict(sorted(face.items()))  # sorting the dictionary\n",
    "    return result  \n",
    "\n",
    "print(dicerolls(2, 100))"
   ]
  },
  {
   "cell_type": "markdown",
   "metadata": {},
   "source": []
  },
  {
   "cell_type": "markdown",
   "metadata": {},
   "source": [
    "---\n",
    "### Task 3: Coin Flip"
   ]
  },
  {
   "cell_type": "markdown",
   "metadata": {},
   "source": [
    "The aim of this task is to write code that simulates flipping a coin 100 times, run it 1000 times, keeping track of the number of times heads wins and then appropriately plotting these figures to show that it is normally distributed i.e., follows a bell shaped curve. (although according to some the chances of flipping a real coin are not always 50/50 [ripleys])\n",
    "\n"
   ]
  },
  {
   "cell_type": "code",
   "execution_count": 27,
   "metadata": {},
   "outputs": [
    {
     "data": {
      "image/png": "[encoded data removed]",
      "text/plain": [
       "<Figure size 432x288 with 1 Axes>"
      ]
     },
     "metadata": {
      "needs_background": "light"
     },
     "output_type": "display_data"
    }
   ],
   "source": [
    "# Making an empty list called count into which the number of times heads wins out of 100 is added(finishes with 1000 numbers)\n",
    "count = []\n",
    "# the code is run 1000 times\n",
    "for i in range(1000):\n",
    "    x = rng.binomial(1, 0.5, 100)  #rng.binomial used to output 0 or 1 100 times. 0.5 is the probability of either number appearing\n",
    "    y = np.count_nonzero(x ==1)  #np.count_nonzero is used to count number of appearance of non-zero integers in a numpy array\n",
    "                                  # using x==1 gets it to count the number of 1s that appear which i have assigned to represent heads\n",
    "    count.append(y)      # this adds the number representing the amount of times heads appears in 100 flips      \n",
    "#print(count)\n",
    "plt.hist(count)      #creates a histogram of the 1000 integers which each represent the number of times heads appears in 100 coin flips\n",
    "plt.show()"
   ]
  },
  {
   "cell_type": "code",
   "execution_count": 5,
   "metadata": {},
   "outputs": [
    {
     "data": {
      "text/plain": [
       "array([44, 58, 49, 46, 51, 61, 52, 50, 47, 50, 50, 47, 49, 44, 50, 48, 51,\n",
       "       50, 47, 64, 47, 43, 50, 62, 55, 61, 50, 50, 49, 63, 43, 44, 53, 49,\n",
       "       54, 48, 44, 53, 49, 50, 51, 52, 50, 52, 54, 44, 48, 52, 52, 48, 49,\n",
       "       50, 48, 44, 51, 39, 62, 45, 52, 50, 49, 37, 40, 55, 47, 46, 60, 50,\n",
       "       48, 51, 39, 50, 56, 54, 48, 43, 51, 53, 52, 52, 49, 49, 56, 45, 59,\n",
       "       46, 48, 50, 61, 52, 54, 56, 55, 50, 53, 39, 45, 49, 45, 52, 45, 56,\n",
       "       56, 56, 56, 42, 55, 51, 38, 47, 55, 47, 55, 52, 44, 47, 55, 56, 53,\n",
       "       50, 50, 55, 56, 54, 46, 47, 51, 53, 50, 43, 43, 50, 49, 55, 52, 50,\n",
       "       45, 48, 53, 45, 40, 54, 50, 60, 53, 45, 55, 44, 57, 60, 41, 46, 56,\n",
       "       44, 55, 48, 55, 49, 44, 50, 49, 45, 48, 49, 49, 47, 44, 48, 54, 52,\n",
       "       58, 60, 48, 47, 44, 42, 52, 50, 48, 51, 48, 42, 48, 49, 47, 48, 51,\n",
       "       56, 55, 52, 51, 48, 53, 44, 56, 46, 45, 54, 54, 49, 46, 47, 50, 64,\n",
       "       48, 48, 52, 51, 54, 53, 51, 43, 52, 44, 52, 53, 55, 38, 47, 55, 50,\n",
       "       51, 58, 56, 53, 47, 49, 51, 47, 48, 49, 45, 47, 42, 51, 41, 51, 53,\n",
       "       51, 39, 56, 53, 40, 56, 50, 51, 47, 53, 51, 45, 43, 51, 43, 45, 44,\n",
       "       52, 45, 55, 54, 50, 48, 42, 49, 58, 60, 46, 50, 54, 47, 42, 47, 51,\n",
       "       48, 58, 48, 51, 57, 49, 54, 53, 44, 52, 47, 51, 44, 48, 47, 46, 45,\n",
       "       43, 49, 55, 48, 53, 52, 41, 39, 50, 47, 48, 56, 58, 47, 50, 44, 44,\n",
       "       57, 42, 51, 50, 49, 56, 55, 45, 49, 55, 51, 45, 52, 57, 45, 44, 62,\n",
       "       56, 59, 47, 57, 48, 46, 48, 52, 52, 54, 50, 51, 57, 46, 54, 51, 55,\n",
       "       47, 47, 44, 52, 40, 50, 48, 45, 44, 38, 55, 49, 56, 46, 55, 60, 44,\n",
       "       45, 52, 54, 55, 48, 40, 46, 46, 50, 53, 51, 42, 57, 57, 58, 51, 44,\n",
       "       52, 51, 57, 49, 46, 51, 49, 50, 55, 50, 49, 43, 52, 54, 57, 52, 52,\n",
       "       55, 59, 51, 59, 49, 50, 54, 47, 52, 53, 46, 52, 44, 42, 49, 42, 52,\n",
       "       58, 45, 49, 48, 49, 47, 52, 55, 55, 47, 40, 58, 40, 61, 51, 42, 56,\n",
       "       47, 54, 51, 51, 41, 50, 49, 52, 45, 45, 53, 60, 50, 43, 49, 46, 47,\n",
       "       53, 50, 55, 53, 47, 46, 40, 50, 47, 53, 50, 58, 56, 53, 57, 54, 45,\n",
       "       51, 46, 46, 54, 53, 54, 48, 55, 40, 57, 61, 60, 57, 52, 49, 51, 47,\n",
       "       48, 53, 49, 54, 54, 52, 44, 49, 49, 45, 55, 44, 63, 56, 56, 43, 47,\n",
       "       46, 40, 48, 55, 54, 48, 51, 46, 51, 53, 50, 49, 58, 55, 49, 56, 52,\n",
       "       55, 52, 52, 57, 50, 56, 52, 50, 45, 58, 54, 44, 50, 53, 45, 54, 51,\n",
       "       57, 49, 46, 52, 54, 59, 57, 60, 49, 44, 40, 50, 49, 51, 51, 51, 47,\n",
       "       60, 48, 52, 53, 51, 52, 54, 49, 48, 53, 58, 47, 54, 50, 47, 57, 51,\n",
       "       46, 51, 52, 44, 46, 49, 49, 52, 39, 57, 51, 52, 60, 46, 54, 47, 48,\n",
       "       53, 44, 56, 49, 47, 55, 45, 50, 47, 52, 48, 58, 45, 48, 45, 56, 54,\n",
       "       43, 52, 46, 51, 56, 50, 56, 53, 50, 54, 57, 42, 49, 50, 53, 44, 53,\n",
       "       45, 50, 47, 51, 41, 60, 56, 49, 55, 47, 45, 59, 45, 45, 49, 49, 51,\n",
       "       58, 53, 47, 44, 55, 56, 50, 51, 58, 46, 46, 51, 51, 55, 40, 47, 46,\n",
       "       50, 49, 46, 59, 58, 45, 54, 47, 43, 48, 43, 54, 57, 59, 44, 47, 56,\n",
       "       45, 60, 39, 50, 46, 53, 61, 56, 49, 50, 54, 56, 52, 42, 47, 53, 52,\n",
       "       47, 54, 52, 42, 49, 45, 43, 53, 44, 50, 51, 51, 52, 45, 61, 42, 49,\n",
       "       53, 50, 43, 54, 58, 55, 47, 53, 50, 55, 47, 49, 54, 51, 59, 52, 53,\n",
       "       50, 52, 55, 48, 51, 51, 54, 46, 51, 42, 49, 46, 48, 41, 55, 55, 46,\n",
       "       45, 49, 52, 45, 53, 55, 44, 64, 51, 48, 50, 54, 46, 51, 48, 51, 50,\n",
       "       49, 51, 38, 40, 48, 51, 52, 50, 48, 48, 55, 42, 63, 50, 55, 54, 51,\n",
       "       54, 56, 43, 54, 61, 55, 53, 54, 50, 50, 50, 54, 50, 45, 51, 55, 53,\n",
       "       46, 55, 46, 47, 50, 58, 50, 51, 58, 43, 45, 52, 56, 59, 53, 57, 56,\n",
       "       44, 49, 59, 50, 53, 47, 43, 49, 49, 58, 52, 47, 45, 38, 50, 53, 45,\n",
       "       50, 54, 40, 48, 56, 43, 47, 45, 52, 49, 59, 56, 54, 49, 50, 51, 53,\n",
       "       49, 42, 52, 55, 57, 59, 49, 55, 48, 49, 63, 51, 56, 52, 43, 57, 51,\n",
       "       56, 49, 52, 57, 49, 50, 52, 41, 55, 53, 51, 42, 51, 58, 52, 50, 43,\n",
       "       47, 45, 50, 45, 53, 58, 50, 48, 50, 52, 49, 52, 49, 44, 35, 67, 55,\n",
       "       39, 54, 56, 49, 49, 42, 45, 55, 45, 53, 49, 50, 61, 49, 48, 42, 48,\n",
       "       50, 44, 56, 36, 50, 53, 55, 55, 51, 52, 52, 45, 49, 47, 45, 46, 48,\n",
       "       51, 46, 45, 53, 42, 58, 46, 52, 55, 44, 58, 54, 47, 51, 46, 47, 50,\n",
       "       48, 49, 57, 43, 47, 61, 48, 53, 50, 57, 59, 54, 49, 61, 57, 62, 46,\n",
       "       50, 52, 55, 46, 54, 51, 43, 44, 48, 45, 43, 50, 50, 50, 60, 56, 49,\n",
       "       55, 40, 48, 55, 43, 52, 49, 49, 51, 45, 53, 51, 53, 39, 53, 41, 43,\n",
       "       55, 57, 41, 44, 42, 51, 52, 54, 57, 46, 51, 52, 51, 38])"
      ]
     },
     "execution_count": 5,
     "metadata": {},
     "output_type": "execute_result"
    }
   ],
   "source": [
    "count = np.array(count)\n",
    "np.array(count)"
   ]
  },
  {
   "cell_type": "markdown",
   "metadata": {},
   "source": [
    "---"
   ]
  },
  {
   "cell_type": "markdown",
   "metadata": {},
   "source": [
    "### Task 4: Simpson's Paradox\n",
    "<br>\n",
    "The Simpson's Paradox is an occurence in statistics in which a trend that appears in several groups is reversed or disappears when the groups are combined [5]. To prevent this phenomenon from occuring the researcher must determine how best to interpret the results and whether the data should be segregated into groups or combined and looked at as a whole. The methos chosen depends on how the data was generated and what factors are influencing the results [6]. "
   ]
  },
  {
   "cell_type": "code",
   "execution_count": 4,
   "metadata": {},
   "outputs": [],
   "source": [
    "x1= np.linspace(5, 10, 20)"
   ]
  },
  {
   "cell_type": "code",
   "execution_count": 5,
   "metadata": {},
   "outputs": [],
   "source": [
    "a1= 6\n",
    "b1= 12\n",
    "y1= a1 * x1 + b1"
   ]
  },
  {
   "cell_type": "code",
   "execution_count": 6,
   "metadata": {},
   "outputs": [
    {
     "data": {
      "image/png": "[encoded data removed]",
      "text/plain": [
       "<Figure size 432x288 with 1 Axes>"
      ]
     },
     "metadata": {
      "needs_background": "light"
     },
     "output_type": "display_data"
    }
   ],
   "source": [
    "plt.plot(x1, y1)\n",
    "plt.show()"
   ]
  },
  {
   "cell_type": "code",
   "execution_count": 7,
   "metadata": {},
   "outputs": [],
   "source": [
    "x2= np.linspace(8, 12, 20)\n",
    "a2= 4\n",
    "b2= 2\n",
    "y2= a2 * x2 + b2"
   ]
  },
  {
   "cell_type": "code",
   "execution_count": 8,
   "metadata": {},
   "outputs": [
    {
     "data": {
      "image/png": "[encoded data removed]",
      "text/plain": [
       "<Figure size 432x288 with 1 Axes>"
      ]
     },
     "metadata": {
      "needs_background": "light"
     },
     "output_type": "display_data"
    }
   ],
   "source": [
    "plt.plot(x1, y1)\n",
    "plt.plot(x2, y2)\n",
    "plt.show()"
   ]
  },
  {
   "cell_type": "code",
   "execution_count": 9,
   "metadata": {},
   "outputs": [],
   "source": [
    "x3= np.linspace(4, 10, 20)\n",
    "a3= 9\n",
    "b3= 5\n",
    "y3= a3 * x3 + b3"
   ]
  },
  {
   "cell_type": "code",
   "execution_count": 10,
   "metadata": {},
   "outputs": [
    {
     "data": {
      "image/png": "[encoded data removed]",
      "text/plain": [
       "<Figure size 432x288 with 1 Axes>"
      ]
     },
     "metadata": {
      "needs_background": "light"
     },
     "output_type": "display_data"
    }
   ],
   "source": [
    "plt.plot(x1, y1)\n",
    "plt.plot(x2, y2)\n",
    "plt.plot(x3, y3)\n",
    "plt.show()"
   ]
  },
  {
   "cell_type": "code",
   "execution_count": 11,
   "metadata": {},
   "outputs": [],
   "source": [
    "x4= np.linspace(2, 6, 20)\n",
    "a4= 16\n",
    "b4= 13\n",
    "y4= a4 * x4 + b4"
   ]
  },
  {
   "cell_type": "code",
   "execution_count": 12,
   "metadata": {},
   "outputs": [
    {
     "data": {
      "image/png": "[encoded data removed]",
      "text/plain": [
       "<Figure size 432x288 with 1 Axes>"
      ]
     },
     "metadata": {
      "needs_background": "light"
     },
     "output_type": "display_data"
    }
   ],
   "source": [
    "plt.plot(x1, y1)\n",
    "plt.plot(x2, y2)\n",
    "plt.plot(x3, y3)\n",
    "plt.plot(x4, y4)\n",
    "plt.show()"
   ]
  },
  {
   "cell_type": "code",
   "execution_count": 13,
   "metadata": {},
   "outputs": [],
   "source": [
    "x = np.concatenate([x1, x2, x3, x4])"
   ]
  },
  {
   "cell_type": "code",
   "execution_count": 14,
   "metadata": {},
   "outputs": [],
   "source": [
    "y = np.concatenate([y1, y2, y3, y4])"
   ]
  },
  {
   "cell_type": "code",
   "execution_count": 15,
   "metadata": {},
   "outputs": [
    {
     "data": {
      "text/plain": [
       "array([-1.26595352, 70.01991885])"
      ]
     },
     "execution_count": 15,
     "metadata": {},
     "output_type": "execute_result"
    }
   ],
   "source": [
    "coeffs = np.polyfit(x, y, 1)\n",
    "coeffs"
   ]
  },
  {
   "cell_type": "code",
   "execution_count": 16,
   "metadata": {},
   "outputs": [
    {
     "data": {
      "image/png": "[encoded data removed]",
      "text/plain": [
       "<Figure size 432x288 with 1 Axes>"
      ]
     },
     "metadata": {
      "needs_background": "light"
     },
     "output_type": "display_data"
    }
   ],
   "source": [
    "plt.plot(x1, y1)\n",
    "plt.plot(x2, y2)\n",
    "plt.plot(x3, y3)\n",
    "plt.plot(x4, y4)\n",
    "plt.plot(x, coeffs[0] * x + coeffs[1])\n",
    "plt.show()"
   ]
  },
  {
   "cell_type": "markdown",
   "metadata": {},
   "source": [
    "---"
   ]
  },
  {
   "cell_type": "markdown",
   "metadata": {},
   "source": [
    "#### References\n",
    "\n",
    "[1]. Counting the frequencies in a list using dictionary in Python; https://www.geeksforgeeks.org/counting-the-frequencies-in-a-list-using-dictionary-in-python/\n",
    "\n",
    "[2]. The Python Tutorial, 5.5 Dictionaries; https://docs.python.org/3.9/tutorial/datastructures.html#dictionaries\n",
    "\n",
    "[3]. Random Generator, NumPy v1.19 Manual; https://numpy.org/doc/stable/reference/random/generator.html\n",
    "\n",
    "[4]. Marshall Brain's Quick and Easy Python Tutorial, https://marshallbrain.com/python5\n",
    "\n",
    "[5]. Simpson's Paradox; https://en.wikipedia.org/wiki/Simpson%27s_paradox#:~:text=Simpson's%20paradox%2C%20which%20also%20goes,when%20these%20groups%20are%20combined.\n",
    "\n",
    "[6]. Simpson's Paradox: How to Prove Opposite Arguments with the Same Data; https://towardsdatascience.com/simpsons-paradox-how-to-prove-two-opposite-arguments-using-one-dataset-1c9c917f5ff9"
   ]
  }
 ],
 "metadata": {
  "kernelspec": {
   "display_name": "Python 3",
   "language": "python",
   "name": "python3"
  },
  "language_info": {
   "codemirror_mode": {
    "name": "ipython",
    "version": 3
   },
   "file_extension": ".py",
   "mimetype": "text/x-python",
   "name": "python",
   "nbconvert_exporter": "python",
   "pygments_lexer": "ipython3",
   "version": "3.7.4"
  }
 },
 "nbformat": 4,
 "nbformat_minor": 2
}
